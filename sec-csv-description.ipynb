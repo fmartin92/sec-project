{
 "cells": [
  {
   "cell_type": "code",
   "execution_count": 62,
   "metadata": {},
   "outputs": [
    {
     "name": "stdout",
     "output_type": "stream",
     "text": [
      "<class 'bytes'>\n"
     ]
    }
   ],
   "source": [
    "# https://www.sec.gov/edgar/sec-api-documentation\n",
    "# https://www.sec.gov/include/ticker.txt\n",
    "# https://data.sec.gov/api/xbrl/companyfacts/CIK0001652044.json\n",
    "# Take a uniform random sample from ticker.txt, 400 companies\n",
    "# Use .json to get CommonStockSharesOutstanding and IncomeTaxExpenseBenefit\n",
    "\n",
    "from operator import methodcaller\n",
    "import requests\n",
    "import json\n",
    "\n",
    "# Produces list with name and id number\n",
    "lines_list_raw = map(str.strip, open('test.txt').readlines())\n",
    "lines_list = list(map(methodcaller('split', '\\t'), lines_list_raw))\n",
    "\n",
    "# Assign url to open .json file according to id.\n",
    "id = '789019' \n",
    "\n",
    "def get_data(id):\n",
    "    id = id.zfill(10)\n",
    "    link = 'https://data.sec.gov/api/xbrl/companyfacts/CIK{}.json'.format(id)\n",
    "\n",
    "    hdr = {'user-agent': 'Mozilla/5.0 (Linux; Android 6.0; Nexus 5 Build/MRA58N) AppleWebKit/537.36 (KHTML, like Gecko) Chrome/92.0.4515.107 Mobile Safari/537.36'}\n",
    "    \n",
    "    req = requests.get(link,headers=hdr)\n",
    "    content = req.content\n",
    "\n",
    "    return content\n",
    "\n",
    "get_data(id)\n",
    "\n"
   ]
  },
  {
   "cell_type": "code",
   "execution_count": null,
   "metadata": {},
   "outputs": [],
   "source": [
    "\n",
    "\n"
   ]
  },
  {
   "cell_type": "code",
   "execution_count": null,
   "metadata": {},
   "outputs": [],
   "source": []
  }
 ],
 "metadata": {
  "kernelspec": {
   "display_name": "Python 3.10.5 64-bit",
   "language": "python",
   "name": "python3"
  },
  "language_info": {
   "codemirror_mode": {
    "name": "ipython",
    "version": 3
   },
   "file_extension": ".py",
   "mimetype": "text/x-python",
   "name": "python",
   "nbconvert_exporter": "python",
   "pygments_lexer": "ipython3",
   "version": "3.10.5"
  },
  "orig_nbformat": 4,
  "vscode": {
   "interpreter": {
    "hash": "aee8b7b246df8f9039afb4144a1f6fd8d2ca17a180786b69acc140d282b71a49"
   }
  }
 },
 "nbformat": 4,
 "nbformat_minor": 2
}
